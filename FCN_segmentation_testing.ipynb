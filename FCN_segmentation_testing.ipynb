{
  "nbformat": 4,
  "nbformat_minor": 0,
  "metadata": {
    "colab": {
      "name": "FCN segmentation testing.ipynb",
      "provenance": []
    },
    "kernelspec": {
      "name": "python3",
      "display_name": "Python 3"
    },
    "language_info": {
      "name": "python"
    }
  },
  "cells": [
    {
      "cell_type": "code",
      "execution_count": 55,
      "metadata": {
        "id": "GOm6mF0qRm2d"
      },
      "outputs": [],
      "source": [
        "from IPython.core.display import clear_output\n",
        "import torch\n",
        "\n",
        "model = torch.hub.load('pytorch/vision:v0.10.0', 'fcn_resnet101', pretrained=True)\n",
        "model.eval()\n",
        "clear_output()"
      ]
    },
    {
      "cell_type": "code",
      "source": [
        "import urllib\n",
        "url, filename = (\"https://raw.githubusercontent.com/onnx/models/master/vision/object_detection_segmentation/fcn/dependencies/voc_classes.txt\", \"voc_classes.txt\")\n",
        "try: urllib.URLopener().retrieve(url, filename)\n",
        "except: urllib.request.urlretrieve(url, filename)"
      ],
      "metadata": {
        "id": "x46YnSA5SVFm"
      },
      "execution_count": 2,
      "outputs": []
    },
    {
      "cell_type": "code",
      "source": [
        "import matplotlib.pyplot as plt\n",
        "import numpy as np\n",
        "import os\n",
        "import cv2 as cv"
      ],
      "metadata": {
        "id": "IdgW69geSYtp"
      },
      "execution_count": 17,
      "outputs": []
    },
    {
      "cell_type": "code",
      "source": [
        "classes_file = open(\"voc_classes.txt\", 'r')\n",
        "clasess = [c.strip() for c in classes_file.readlines()]"
      ],
      "metadata": {
        "id": "YKvNce3tSeFC"
      },
      "execution_count": 137,
      "outputs": []
    },
    {
      "cell_type": "code",
      "source": [
        "# sample execution (requires torchvision)\n",
        "from PIL import Image\n",
        "from torchvision import datasets, transforms\n",
        "\n",
        "transform = transforms.Compose([\n",
        "    transforms.ToTensor(),\n",
        "    transforms.Normalize(mean=[0.485, 0.456, 0.406], std=[0.229, 0.224, 0.225]),\n",
        "])"
      ],
      "metadata": {
        "id": "31538oQDSapC"
      },
      "execution_count": 56,
      "outputs": []
    },
    {
      "cell_type": "code",
      "source": [
        "def preprocess(input_image):\n",
        "  input_image = input_image.convert(\"RGB\")\n",
        "\n",
        "  input_tensor = transform(input_image)\n",
        "  input_batch = input_tensor.unsqueeze(0)\n",
        "  return input_batch\n",
        "\n",
        "def infer(input_batch):\n",
        "  with torch.no_grad():\n",
        "    output = model(input_batch)['out'][0]\n",
        "  return output.argmax(0)"
      ],
      "metadata": {
        "id": "ibvX3q0FScKY"
      },
      "execution_count": 57,
      "outputs": []
    },
    {
      "cell_type": "code",
      "source": [
        "def get_mask_by_tag(output, target_class):\n",
        "  target_class = clasess.index(target_class)\n",
        "  tmp = output.numpy()\n",
        "\n",
        "  binary_mask = tmp == target_class\n",
        "  binary_mask = binary_mask * 255\n",
        "  return binary_mask"
      ],
      "metadata": {
        "id": "1mXjbDFLSkgN"
      },
      "execution_count": 58,
      "outputs": []
    },
    {
      "cell_type": "code",
      "source": [
        "!unzip test-dataset-20220228T123506Z-001.zip"
      ],
      "metadata": {
        "id": "klCn-HWOSkxD"
      },
      "execution_count": null,
      "outputs": []
    },
    {
      "cell_type": "code",
      "source": [
        "import json\n",
        "\n",
        "f = open('test-dataset/tags.json')\n",
        "tags_dict = json.load(f)"
      ],
      "metadata": {
        "id": "pJfteHzpdK3U"
      },
      "execution_count": 59,
      "outputs": []
    },
    {
      "cell_type": "code",
      "source": [
        "test_pictures = [p for p in os.listdir('test-dataset') if p.split('.')[-1] in ['png', 'jpg', 'jpeg']]\n",
        "for i, image in enumerate(test_pictures):\n",
        "  input_image = Image.open(os.path.join(\"test-dataset\", image))\n",
        "  input_batch = preprocess(input_image)\n",
        "  output_image = infer(input_batch)\n",
        "  tags = tags_dict[image]\n",
        "  bin_mask = np.zeros(output_image.shape, dtype=np.int32)\n",
        "  for tag in tags:\n",
        "    bin_mask += get_mask_by_tag(output_image, tag);\n",
        "\n",
        "  im = Image.fromarray(bin_mask).convert('RGB')\n",
        "  im.save(\"fcn-segmented/{}-segmentation.png\".format(image.split('.')[0]))\n",
        "\n",
        "  plt.imshow(input_image)\n",
        "  plt.imshow(bin_mask, alpha=0.7)\n",
        "  plt.axis('off')\n",
        "  plt.savefig(\"fcn-segmented/{}-overlay.png\".format(image.split('.')[0]))\n",
        "  "
      ],
      "metadata": {
        "id": "ut5yYW8oSydb"
      },
      "execution_count": null,
      "outputs": []
    },
    {
      "cell_type": "code",
      "source": [
        "!zip -r fcn-segmented.zip fcn-segmented/"
      ],
      "metadata": {
        "id": "_QCMKWpXjAPf"
      },
      "execution_count": null,
      "outputs": []
    },
    {
      "cell_type": "code",
      "source": [
        "import time\n",
        "\n",
        "input_image = Image.open('/content/test-dataset/adventures-autumn-beautiful-blonde.jpg')\n",
        "input_batch = preprocess(input_image)\n",
        "\n",
        "start = time.time()\n",
        "for i in range(100):\n",
        "  output_image = infer(input_batch)\n",
        "\n",
        "end = time.time()\n",
        "\n",
        "print(end - start)"
      ],
      "metadata": {
        "colab": {
          "base_uri": "https://localhost:8080/"
        },
        "id": "k2sp-2oYRDor",
        "outputId": "006cb750-2646-4627-c980-9350fb3bb920"
      },
      "execution_count": 256,
      "outputs": [
        {
          "output_type": "stream",
          "name": "stdout",
          "text": [
            "1494.1132249832153\n"
          ]
        }
      ]
    },
    {
      "cell_type": "code",
      "source": [
        "input_image.size"
      ],
      "metadata": {
        "colab": {
          "base_uri": "https://localhost:8080/"
        },
        "id": "b0zkbCAz0QE9",
        "outputId": "710263e5-91a5-4795-df46-d61c0a2d9dfc"
      },
      "execution_count": 264,
      "outputs": [
        {
          "output_type": "execute_result",
          "data": {
            "text/plain": [
              "(910, 607)"
            ]
          },
          "metadata": {},
          "execution_count": 264
        }
      ]
    },
    {
      "cell_type": "code",
      "source": [
        "(end - start ) / 100"
      ],
      "metadata": {
        "colab": {
          "base_uri": "https://localhost:8080/"
        },
        "id": "T_bOF3uanucp",
        "outputId": "25a157a7-5176-4f37-bc36-ef8bb5bc52aa"
      },
      "execution_count": 257,
      "outputs": [
        {
          "output_type": "execute_result",
          "data": {
            "text/plain": [
              "14.941132249832153"
            ]
          },
          "metadata": {},
          "execution_count": 257
        }
      ]
    },
    {
      "cell_type": "code",
      "source": [
        "print(\"FPS:\", 1 / ((end - start ) / 100))"
      ],
      "metadata": {
        "colab": {
          "base_uri": "https://localhost:8080/"
        },
        "id": "WAcWyB5TuOqC",
        "outputId": "6d385888-1381-4e8a-f143-93fb7bf6adeb"
      },
      "execution_count": 263,
      "outputs": [
        {
          "output_type": "stream",
          "name": "stdout",
          "text": [
            "FPS: 0.06692933194612703\n"
          ]
        }
      ]
    },
    {
      "cell_type": "code",
      "source": [
        "!cat /proc/cpuinfo"
      ],
      "metadata": {
        "colab": {
          "base_uri": "https://localhost:8080/"
        },
        "id": "Qbhq1ZWvthdI",
        "outputId": "e8c91874-d23f-47de-e98d-6d5c9c25fe17"
      },
      "execution_count": 258,
      "outputs": [
        {
          "output_type": "stream",
          "name": "stdout",
          "text": [
            "processor\t: 0\n",
            "vendor_id\t: GenuineIntel\n",
            "cpu family\t: 6\n",
            "model\t\t: 79\n",
            "model name\t: Intel(R) Xeon(R) CPU @ 2.20GHz\n",
            "stepping\t: 0\n",
            "microcode\t: 0x1\n",
            "cpu MHz\t\t: 2200.216\n",
            "cache size\t: 56320 KB\n",
            "physical id\t: 0\n",
            "siblings\t: 2\n",
            "core id\t\t: 0\n",
            "cpu cores\t: 1\n",
            "apicid\t\t: 0\n",
            "initial apicid\t: 0\n",
            "fpu\t\t: yes\n",
            "fpu_exception\t: yes\n",
            "cpuid level\t: 13\n",
            "wp\t\t: yes\n",
            "flags\t\t: fpu vme de pse tsc msr pae mce cx8 apic sep mtrr pge mca cmov pat pse36 clflush mmx fxsr sse sse2 ss ht syscall nx pdpe1gb rdtscp lm constant_tsc rep_good nopl xtopology nonstop_tsc cpuid tsc_known_freq pni pclmulqdq ssse3 fma cx16 pcid sse4_1 sse4_2 x2apic movbe popcnt aes xsave avx f16c rdrand hypervisor lahf_lm abm 3dnowprefetch invpcid_single ssbd ibrs ibpb stibp fsgsbase tsc_adjust bmi1 hle avx2 smep bmi2 erms invpcid rtm rdseed adx smap xsaveopt arat md_clear arch_capabilities\n",
            "bugs\t\t: cpu_meltdown spectre_v1 spectre_v2 spec_store_bypass l1tf mds swapgs taa\n",
            "bogomips\t: 4400.43\n",
            "clflush size\t: 64\n",
            "cache_alignment\t: 64\n",
            "address sizes\t: 46 bits physical, 48 bits virtual\n",
            "power management:\n",
            "\n",
            "processor\t: 1\n",
            "vendor_id\t: GenuineIntel\n",
            "cpu family\t: 6\n",
            "model\t\t: 79\n",
            "model name\t: Intel(R) Xeon(R) CPU @ 2.20GHz\n",
            "stepping\t: 0\n",
            "microcode\t: 0x1\n",
            "cpu MHz\t\t: 2200.216\n",
            "cache size\t: 56320 KB\n",
            "physical id\t: 0\n",
            "siblings\t: 2\n",
            "core id\t\t: 0\n",
            "cpu cores\t: 1\n",
            "apicid\t\t: 1\n",
            "initial apicid\t: 1\n",
            "fpu\t\t: yes\n",
            "fpu_exception\t: yes\n",
            "cpuid level\t: 13\n",
            "wp\t\t: yes\n",
            "flags\t\t: fpu vme de pse tsc msr pae mce cx8 apic sep mtrr pge mca cmov pat pse36 clflush mmx fxsr sse sse2 ss ht syscall nx pdpe1gb rdtscp lm constant_tsc rep_good nopl xtopology nonstop_tsc cpuid tsc_known_freq pni pclmulqdq ssse3 fma cx16 pcid sse4_1 sse4_2 x2apic movbe popcnt aes xsave avx f16c rdrand hypervisor lahf_lm abm 3dnowprefetch invpcid_single ssbd ibrs ibpb stibp fsgsbase tsc_adjust bmi1 hle avx2 smep bmi2 erms invpcid rtm rdseed adx smap xsaveopt arat md_clear arch_capabilities\n",
            "bugs\t\t: cpu_meltdown spectre_v1 spectre_v2 spec_store_bypass l1tf mds swapgs taa\n",
            "bogomips\t: 4400.43\n",
            "clflush size\t: 64\n",
            "cache_alignment\t: 64\n",
            "address sizes\t: 46 bits physical, 48 bits virtual\n",
            "power management:\n",
            "\n"
          ]
        }
      ]
    },
    {
      "cell_type": "code",
      "source": [
        ""
      ],
      "metadata": {
        "id": "B_84DfkYuA0l"
      },
      "execution_count": null,
      "outputs": []
    }
  ]
}